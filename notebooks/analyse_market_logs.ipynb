{
 "cells": [
  {
   "cell_type": "code",
   "execution_count": 14,
   "id": "1bbe1d9c",
   "metadata": {},
   "outputs": [
    {
     "data": {
      "text/html": [
       "<style>.container { width:100% !important; }</style>"
      ],
      "text/plain": [
       "<IPython.core.display.HTML object>"
      ]
     },
     "metadata": {},
     "output_type": "display_data"
    }
   ],
   "source": [
    "from algo.stream.sqlite import MarketSqliteLogger\n",
    "from contextlib import closing\n",
    "import argparse\n",
    "from IPython.display import display, HTML\n",
    "from tinyman.v1.client import TinymanMainnetClient\n",
    "import pandas as pd\n",
    "from matplotlib import pyplot as plt\n",
    "\n",
    "display(HTML(\"<style>.container { width:100% !important; }</style>\"))"
   ]
  },
  {
   "cell_type": "code",
   "execution_count": 15,
   "id": "c015e6d7",
   "metadata": {},
   "outputs": [],
   "source": [
    "run_name = '20220202-102910'\n",
    "\n",
    "with MarketSqliteLogger(run_name=run_name) as marketLogger:\n",
    "    df = marketLogger.to_dataframe()"
   ]
  },
  {
   "cell_type": "code",
   "execution_count": 24,
   "id": "e784edf9",
   "metadata": {},
   "outputs": [
    {
     "data": {
      "text/plain": [
       "2      2.397325e+06\n",
       "14     2.397325e+06\n",
       "26     2.397325e+06\n",
       "38     2.397325e+06\n",
       "50     2.397325e+06\n",
       "62     2.397325e+06\n",
       "74     2.397325e+06\n",
       "92     2.397325e+06\n",
       "106    2.397325e+06\n",
       "119    2.397325e+06\n",
       "120    2.397325e+06\n",
       "134    2.397325e+06\n",
       "146    2.397325e+06\n",
       "158    2.400036e+06\n",
       "170    2.403425e+06\n",
       "182    2.403425e+06\n",
       "194    2.403425e+06\n",
       "206    2.403425e+06\n",
       "218    2.403425e+06\n",
       "230    2.403425e+06\n",
       "243    2.403425e+06\n",
       "258    2.403425e+06\n",
       "Name: asset2_reserves, dtype: float64"
      ]
     },
     "execution_count": 24,
     "metadata": {},
     "output_type": "execute_result"
    }
   ],
   "source": [
    "subdf['asset2_reserves']"
   ]
  },
  {
   "cell_type": "code",
   "execution_count": 23,
   "id": "523e8ca1",
   "metadata": {},
   "outputs": [
    {
     "data": {
      "text/plain": [
       "2      282207276.0\n",
       "14     282207276.0\n",
       "26     282207276.0\n",
       "38     282207276.0\n",
       "50     282207276.0\n",
       "62     282207276.0\n",
       "74     282207276.0\n",
       "92     282207276.0\n",
       "106    282207276.0\n",
       "119    282207276.0\n",
       "120    282207276.0\n",
       "134    282207276.0\n",
       "146    282207276.0\n",
       "158    282207276.0\n",
       "170    282207276.0\n",
       "182    282207276.0\n",
       "194    282207276.0\n",
       "206    282207276.0\n",
       "218    282207276.0\n",
       "230    282207276.0\n",
       "243    282207276.0\n",
       "258    282207276.0\n",
       "Name: asset1_reserves, dtype: float64"
      ]
     },
     "execution_count": 23,
     "metadata": {},
     "output_type": "execute_result"
    }
   ],
   "source": [
    "subdf['asset1_reserves']"
   ]
  },
  {
   "cell_type": "code",
   "execution_count": 22,
   "id": "060b1e12",
   "metadata": {},
   "outputs": [
    {
     "data": {
      "text/plain": [
       "0             NaN\n",
       "1             NaN\n",
       "2      117.717571\n",
       "3             NaN\n",
       "4             NaN\n",
       "          ...    \n",
       "259           NaN\n",
       "260           NaN\n",
       "261           NaN\n",
       "262           NaN\n",
       "263           NaN\n",
       "Length: 264, dtype: float64"
      ]
     },
     "execution_count": 22,
     "metadata": {},
     "output_type": "execute_result"
    }
   ],
   "source": [
    "subdf['asset1_reserves']/df['asset2_reserves']"
   ]
  },
  {
   "cell_type": "code",
   "execution_count": 16,
   "id": "4bf0bf06",
   "metadata": {},
   "outputs": [
    {
     "data": {
      "image/png": "[encoded data removed]",
      "text/plain": [
       "<Figure size 432x288 with 1 Axes>"
      ]
     },
     "metadata": {
      "needs_background": "light"
     },
     "output_type": "display_data"
    }
   ],
   "source": [
    "# Yieldly - Algo\n",
    "\n",
    "df.drop(columns=['idx'])\n",
    "subdf = df[(df['asset1']==226701642) & (df['asset2']==0)]\n",
    "\n",
    "plt.plot(subdf['utcnow'], subdf['price'])\n",
    "plt.xticks(rotation='vertical')\n",
    "plt.grid()"
   ]
  },
  {
   "cell_type": "code",
   "execution_count": null,
   "id": "ad278fc8",
   "metadata": {},
   "outputs": [],
   "source": []
  }
 ],
 "metadata": {
  "kernelspec": {
   "display_name": "Python 3 (ipykernel)",
   "language": "python",
   "name": "python3"
  },
  "language_info": {
   "codemirror_mode": {
    "name": "ipython",
    "version": 3
   },
   "file_extension": ".py",
   "mimetype": "text/x-python",
   "name": "python",
   "nbconvert_exporter": "python",
   "pygments_lexer": "ipython3",
   "version": "3.10.0"
  }
 },
 "nbformat": 4,
 "nbformat_minor": 5
}
