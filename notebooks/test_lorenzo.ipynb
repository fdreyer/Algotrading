{
 "cells": [
  {
   "cell_type": "code",
   "execution_count": 7,
   "id": "af78cc32",
   "metadata": {},
   "outputs": [
    {
     "data": {
      "text/html": [
       "<style>.container { width:100% !important; }</style>"
      ],
      "text/plain": [
       "<IPython.core.display.HTML object>"
      ]
     },
     "metadata": {},
     "output_type": "display_data"
    }
   ],
   "source": [
    "from IPython.core.display import display, HTML\n",
    "display(HTML(\"<style>.container { width:100% !important; }</style>\"))\n",
    "\n",
    "from datastore import DataStore\n",
    "from timeseries import make_df, make_asset_features\n",
    "import numpy as np\n",
    "from matplotlib import pyplot as plt"
   ]
  },
  {
   "cell_type": "code",
   "execution_count": 2,
   "id": "cfd61b67",
   "metadata": {},
   "outputs": [],
   "source": [
    "%load_ext autoreload\n",
    "%autoreload 1\n",
    "%aimport datastore\n",
    "%aimport timeseries"
   ]
  },
  {
   "cell_type": "code",
   "execution_count": 3,
   "id": "0d86f138",
   "metadata": {},
   "outputs": [
    {
     "name": "stdout",
     "output_type": "stream",
     "text": [
      "Returned fast price data in 0.2416 seconds.\n",
      "Updated slow price data in 58.3052 seconds.\n"
     ]
    }
   ],
   "source": [
    "ds = DataStore()"
   ]
  },
  {
   "cell_type": "code",
   "execution_count": 12,
   "id": "b936608c",
   "metadata": {},
   "outputs": [],
   "source": [
    "df = make_df(ds)\n",
    "df = df.groupby('asset_id').apply(make_asset_features)"
   ]
  },
  {
   "cell_type": "code",
   "execution_count": 26,
   "id": "bb0c0a14",
   "metadata": {},
   "outputs": [
    {
     "data": {
      "text/plain": [
       "DatetimeIndex(['2021-10-26 17:56:00', '2021-10-26 17:57:00',\n",
       "               '2021-10-26 17:58:00', '2021-10-26 17:59:00',\n",
       "               '2021-10-26 18:00:00', '2021-10-26 18:01:00',\n",
       "               '2021-10-26 18:02:00', '2021-10-26 18:03:00',\n",
       "               '2021-10-26 18:04:00', '2021-10-26 18:05:00',\n",
       "               '2021-10-26 18:06:00', '2021-10-26 18:07:00',\n",
       "               '2021-10-26 18:08:00', '2021-10-26 18:09:00',\n",
       "               '2021-10-26 18:10:00', '2021-10-26 18:11:00',\n",
       "               '2021-10-26 18:12:00', '2021-10-26 18:13:00',\n",
       "               '2021-10-26 18:14:00', '2021-10-26 18:15:00',\n",
       "               '2021-10-26 18:16:00', '2021-10-26 18:17:00',\n",
       "               '2021-10-26 18:18:00', '2021-10-26 18:19:00',\n",
       "               '2021-10-26 18:20:00', '2021-10-26 18:21:00',\n",
       "               '2021-10-26 18:22:00', '2021-10-26 18:23:00',\n",
       "               '2021-10-26 18:24:00', '2021-10-26 18:25:00',\n",
       "               '2021-10-26 18:26:00', '2021-10-26 18:27:00',\n",
       "               '2021-10-26 18:28:00', '2021-10-26 18:29:00',\n",
       "               '2021-10-26 18:30:00', '2021-10-26 18:31:00',\n",
       "               '2021-10-26 18:32:00', '2021-10-26 18:33:00',\n",
       "               '2021-10-26 18:34:00', '2021-10-26 18:35:00',\n",
       "               '2021-10-26 18:36:00', '2021-10-26 18:37:00',\n",
       "               '2021-10-26 18:38:00', '2021-10-26 18:39:00',\n",
       "               '2021-10-26 18:40:00', '2021-10-26 18:41:00',\n",
       "               '2021-10-26 18:42:00', '2021-10-26 18:43:00',\n",
       "               '2021-10-26 18:44:00', '2021-10-26 18:45:00',\n",
       "               '2021-10-26 18:46:00', '2021-10-26 18:47:00',\n",
       "               '2021-10-26 18:48:00', '2021-10-26 18:49:00',\n",
       "               '2021-10-26 18:50:00', '2021-10-26 18:51:00',\n",
       "               '2021-10-26 18:52:00', '2021-10-26 18:53:00',\n",
       "               '2021-10-26 18:54:00', '2021-10-26 18:55:00',\n",
       "               '2021-10-26 18:56:00', '2021-10-26 18:57:00',\n",
       "               '2021-10-26 18:58:00', '2021-10-26 18:59:00',\n",
       "               '2021-10-26 19:00:00', '2021-10-26 19:01:00',\n",
       "               '2021-10-26 19:02:00', '2021-10-26 19:03:00',\n",
       "               '2021-10-26 19:04:00', '2021-10-26 19:05:00',\n",
       "               '2021-10-26 19:06:00', '2021-10-26 19:07:00',\n",
       "               '2021-10-26 19:08:00', '2021-10-26 19:09:00',\n",
       "               '2021-10-26 19:10:00', '2021-10-26 19:11:00',\n",
       "               '2021-10-26 19:12:00', '2021-10-26 19:13:00',\n",
       "               '2021-10-26 19:14:00', '2021-10-26 19:15:00',\n",
       "               '2021-10-26 19:16:00', '2021-10-26 19:17:00',\n",
       "               '2021-10-26 19:18:00', '2021-10-26 19:19:00',\n",
       "               '2021-10-26 19:20:00', '2021-10-26 19:21:00',\n",
       "               '2021-10-26 19:22:00', '2021-10-26 19:23:00',\n",
       "               '2021-10-26 19:24:00', '2021-10-26 19:25:00',\n",
       "               '2021-10-26 19:26:00', '2021-10-26 19:27:00',\n",
       "               '2021-10-26 19:28:00', '2021-10-26 19:29:00',\n",
       "               '2021-10-26 19:30:00', '2021-10-26 19:31:00',\n",
       "               '2021-10-26 19:32:00', '2021-10-26 19:33:00',\n",
       "               '2021-10-26 19:34:00', '2021-10-26 19:35:00'],\n",
       "              dtype='datetime64[ns]', name='datetime', freq=None)"
      ]
     },
     "execution_count": 26,
     "metadata": {},
     "output_type": "execute_result"
    }
   ],
   "source": [
    "df[df['asset_id']==163650][['price','ema_30m','ema_1h','ema_2h']][300:400].index"
   ]
  },
  {
   "cell_type": "code",
   "execution_count": 28,
   "id": "1fa5eeec",
   "metadata": {},
   "outputs": [
    {
     "data": {
      "text/html": [
       "<div>\n",
       "<style scoped>\n",
       "    .dataframe tbody tr th:only-of-type {\n",
       "        vertical-align: middle;\n",
       "    }\n",
       "\n",
       "    .dataframe tbody tr th {\n",
       "        vertical-align: top;\n",
       "    }\n",
       "\n",
       "    .dataframe thead th {\n",
       "        text-align: right;\n",
       "    }\n",
       "</style>\n",
       "<table border=\"1\" class=\"dataframe\">\n",
       "  <thead>\n",
       "    <tr style=\"text-align: right;\">\n",
       "      <th></th>\n",
       "      <th>price</th>\n",
       "      <th>ema_30m</th>\n",
       "      <th>ema_1h</th>\n",
       "      <th>ema_2h</th>\n",
       "    </tr>\n",
       "    <tr>\n",
       "      <th>datetime</th>\n",
       "      <th></th>\n",
       "      <th></th>\n",
       "      <th></th>\n",
       "      <th></th>\n",
       "    </tr>\n",
       "  </thead>\n",
       "  <tbody>\n",
       "    <tr>\n",
       "      <th>2021-10-26 17:56:00</th>\n",
       "      <td>0.057072</td>\n",
       "      <td>0.058327</td>\n",
       "      <td>0.059047</td>\n",
       "      <td>0.059046</td>\n",
       "    </tr>\n",
       "    <tr>\n",
       "      <th>2021-10-26 17:57:00</th>\n",
       "      <td>0.057072</td>\n",
       "      <td>0.058286</td>\n",
       "      <td>0.059015</td>\n",
       "      <td>0.059030</td>\n",
       "    </tr>\n",
       "    <tr>\n",
       "      <th>2021-10-26 17:58:00</th>\n",
       "      <td>0.057072</td>\n",
       "      <td>0.058246</td>\n",
       "      <td>0.058982</td>\n",
       "      <td>0.059014</td>\n",
       "    </tr>\n",
       "    <tr>\n",
       "      <th>2021-10-26 17:59:00</th>\n",
       "      <td>0.057072</td>\n",
       "      <td>0.058207</td>\n",
       "      <td>0.058951</td>\n",
       "      <td>0.058997</td>\n",
       "    </tr>\n",
       "    <tr>\n",
       "      <th>2021-10-26 18:00:00</th>\n",
       "      <td>0.057072</td>\n",
       "      <td>0.058170</td>\n",
       "      <td>0.058920</td>\n",
       "      <td>0.058981</td>\n",
       "    </tr>\n",
       "    <tr>\n",
       "      <th>...</th>\n",
       "      <td>...</td>\n",
       "      <td>...</td>\n",
       "      <td>...</td>\n",
       "      <td>...</td>\n",
       "    </tr>\n",
       "    <tr>\n",
       "      <th>2021-10-26 19:31:00</th>\n",
       "      <td>0.062005</td>\n",
       "      <td>0.062404</td>\n",
       "      <td>0.060643</td>\n",
       "      <td>0.059737</td>\n",
       "    </tr>\n",
       "    <tr>\n",
       "      <th>2021-10-26 19:32:00</th>\n",
       "      <td>0.062005</td>\n",
       "      <td>0.062391</td>\n",
       "      <td>0.060665</td>\n",
       "      <td>0.059756</td>\n",
       "    </tr>\n",
       "    <tr>\n",
       "      <th>2021-10-26 19:33:00</th>\n",
       "      <td>0.062005</td>\n",
       "      <td>0.062378</td>\n",
       "      <td>0.060688</td>\n",
       "      <td>0.059775</td>\n",
       "    </tr>\n",
       "    <tr>\n",
       "      <th>2021-10-26 19:34:00</th>\n",
       "      <td>0.062005</td>\n",
       "      <td>0.062366</td>\n",
       "      <td>0.060709</td>\n",
       "      <td>0.059793</td>\n",
       "    </tr>\n",
       "    <tr>\n",
       "      <th>2021-10-26 19:35:00</th>\n",
       "      <td>0.062005</td>\n",
       "      <td>0.062354</td>\n",
       "      <td>0.060731</td>\n",
       "      <td>0.059812</td>\n",
       "    </tr>\n",
       "  </tbody>\n",
       "</table>\n",
       "<p>100 rows × 4 columns</p>\n",
       "</div>"
      ],
      "text/plain": [
       "                        price   ema_30m    ema_1h    ema_2h\n",
       "datetime                                                   \n",
       "2021-10-26 17:56:00  0.057072  0.058327  0.059047  0.059046\n",
       "2021-10-26 17:57:00  0.057072  0.058286  0.059015  0.059030\n",
       "2021-10-26 17:58:00  0.057072  0.058246  0.058982  0.059014\n",
       "2021-10-26 17:59:00  0.057072  0.058207  0.058951  0.058997\n",
       "2021-10-26 18:00:00  0.057072  0.058170  0.058920  0.058981\n",
       "...                       ...       ...       ...       ...\n",
       "2021-10-26 19:31:00  0.062005  0.062404  0.060643  0.059737\n",
       "2021-10-26 19:32:00  0.062005  0.062391  0.060665  0.059756\n",
       "2021-10-26 19:33:00  0.062005  0.062378  0.060688  0.059775\n",
       "2021-10-26 19:34:00  0.062005  0.062366  0.060709  0.059793\n",
       "2021-10-26 19:35:00  0.062005  0.062354  0.060731  0.059812\n",
       "\n",
       "[100 rows x 4 columns]"
      ]
     },
     "execution_count": 28,
     "metadata": {},
     "output_type": "execute_result"
    }
   ],
   "source": [
    "testdf = df[df['asset_id']==163650][['price','ema_30m','ema_1h','ema_2h']][300:400]\n",
    "testdf"
   ]
  },
  {
   "cell_type": "code",
   "execution_count": 30,
   "id": "0a631e23",
   "metadata": {},
   "outputs": [
    {
     "data": {
      "text/html": [
       "<div>\n",
       "<style scoped>\n",
       "    .dataframe tbody tr th:only-of-type {\n",
       "        vertical-align: middle;\n",
       "    }\n",
       "\n",
       "    .dataframe tbody tr th {\n",
       "        vertical-align: top;\n",
       "    }\n",
       "\n",
       "    .dataframe thead th {\n",
       "        text-align: right;\n",
       "    }\n",
       "</style>\n",
       "<table border=\"1\" class=\"dataframe\">\n",
       "  <thead>\n",
       "    <tr style=\"text-align: right;\">\n",
       "      <th></th>\n",
       "      <th>price</th>\n",
       "      <th>ema_30m</th>\n",
       "      <th>ema_1h</th>\n",
       "      <th>ema_2h</th>\n",
       "    </tr>\n",
       "    <tr>\n",
       "      <th>datetime</th>\n",
       "      <th></th>\n",
       "      <th></th>\n",
       "      <th></th>\n",
       "      <th></th>\n",
       "    </tr>\n",
       "  </thead>\n",
       "  <tbody>\n",
       "    <tr>\n",
       "      <th>2021-10-26 19:23:00</th>\n",
       "      <td>0.111399</td>\n",
       "      <td>0.059710</td>\n",
       "      <td>0.059101</td>\n",
       "      <td>0.058921</td>\n",
       "    </tr>\n",
       "    <tr>\n",
       "      <th>2021-10-26 19:26:00</th>\n",
       "      <td>0.130449</td>\n",
       "      <td>0.062129</td>\n",
       "      <td>0.060351</td>\n",
       "      <td>0.059554</td>\n",
       "    </tr>\n",
       "  </tbody>\n",
       "</table>\n",
       "</div>"
      ],
      "text/plain": [
       "                        price   ema_30m    ema_1h    ema_2h\n",
       "datetime                                                   \n",
       "2021-10-26 19:23:00  0.111399  0.059710  0.059101  0.058921\n",
       "2021-10-26 19:26:00  0.130449  0.062129  0.060351  0.059554"
      ]
     },
     "execution_count": 30,
     "metadata": {},
     "output_type": "execute_result"
    }
   ],
   "source": [
    "testdf[testdf['price'] > 0.08]"
   ]
  },
  {
   "cell_type": "code",
   "execution_count": 21,
   "id": "12bf8fd3",
   "metadata": {},
   "outputs": [
    {
     "data": {
      "image/png": "[encoded data removed]",
      "text/plain": [
       "<Figure size 432x288 with 1 Axes>"
      ]
     },
     "metadata": {
      "needs_background": "light"
     },
     "output_type": "display_data"
    }
   ],
   "source": [
    "df[df['asset_id']==163650][['price','ema_30m','ema_1h','ema_2h']][300:400].plot()\n",
    "plt.grid(b=1)"
   ]
  },
  {
   "cell_type": "code",
   "execution_count": 25,
   "id": "444da35d",
   "metadata": {},
   "outputs": [
    {
     "data": {
      "image/png": "[encoded data removed]",
      "text/plain": [
       "<Figure size 432x288 with 1 Axes>"
      ]
     },
     "metadata": {
      "needs_background": "light"
     },
     "output_type": "display_data"
    }
   ],
   "source": [
    "df[df['asset_id']==163650].dropna().drop(columns=['asset_id'])[10:-10].plot()\n",
    "plt.grid(b=1)"
   ]
  }
 ],
 "metadata": {
  "kernelspec": {
   "display_name": "Python 3 (ipykernel)",
   "language": "python",
   "name": "python3"
  },
  "language_info": {
   "codemirror_mode": {
    "name": "ipython",
    "version": 3
   },
   "file_extension": ".py",
   "mimetype": "text/x-python",
   "name": "python",
   "nbconvert_exporter": "python",
   "pygments_lexer": "ipython3",
   "version": "3.9.7"
  }
 },
 "nbformat": 4,
 "nbformat_minor": 5
}
