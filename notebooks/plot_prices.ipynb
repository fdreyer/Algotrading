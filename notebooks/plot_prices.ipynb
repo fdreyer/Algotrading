{
 "cells": [
  {
   "cell_type": "code",
   "execution_count": null,
   "id": "effb8b58",
   "metadata": {},
   "outputs": [],
   "source": [
    "import datetime\n",
    "\n",
    "from definitions import ROOT_DIR\n",
    "from tinyman.v1.client import TinymanMainnetClient\n",
    "from algo.blockchain.process_volumes import query_transactions, SwapScraper\n",
    "from algo.blockchain.process_prices import PriceScraper\n",
    "from algo.blockchain.utils import datetime_to_int, generator_to_df\n",
    "import json\n",
    "import itertools\n",
    "import pandas as pd\n",
    "import pyarrow as pa\n",
    "import pyarrow.parquet as pq\n",
    "from definitions import ROOT_DIR\n",
    "import numpy as np\n",
    "import glob\n",
    "import os\n",
    "from matplotlib import pyplot as plt\n",
    "from pathlib import Path\n",
    "from IPython.core.display import display, HTML\n",
    "display(HTML(\"<style>.container { width:100% !important; }</style>\"))\n",
    "from algo.universe.assets import get_asset_data\n",
    "from algo.blockchain.utils import timestamp_to_5min\n",
    "from functools import lru_cache\n",
    "from definitions import ROOT_DIR"
   ]
  },
  {
   "cell_type": "code",
   "execution_count": null,
   "id": "e519a366",
   "metadata": {},
   "outputs": [],
   "source": [
    "cache_name = '20220206'\n",
    "\n",
    "# Select only pairs with Algo\n",
    "caches_pattern = f'{ROOT_DIR}/caches/prices/{cache_name}/0_*'\n",
    "\n",
    "stablecoins = [31566704, # USDC\n",
    "               312769 # USDt\n",
    "              ]\n",
    "\n",
    "@lru_cache()\n",
    "def get_asset_name(asset_id):\n",
    "    return get_asset_data(asset_id)['params']['name']\n",
    "\n",
    "@lru_cache()\n",
    "def get_decimals(asset_id):\n",
    "    return get_asset_data(asset_id)['params']['decimals']\n",
    "\n",
    "def gen_data():\n",
    "    for base_dir in glob.glob(caches_pattern):\n",
    "        asset_id = int(Path(base_dir).name.split('_')[1])\n",
    "        if asset_id in stablecoins:\n",
    "            continue\n",
    "        subdf = pd.concat(pd.read_parquet(fname) for fname in glob.glob(f'{base_dir}/*.parquet')).sort_values(by='time')\n",
    "        subdf['id'] = asset_id\n",
    "        yield subdf\n",
    "    \n",
    "df = pd.concat(gen_data())\n",
    "\n",
    "df['time_5min'] = timestamp_to_5min(df['time'])\n",
    "df = df.groupby(['time_5min','id']).agg(sum)\n",
    "df['price'] = df['asset2_reserves']/df['asset1_reserves']\n",
    "df = df.reset_index()"
   ]
  },
  {
   "cell_type": "code",
   "execution_count": null,
   "id": "84603693",
   "metadata": {
    "scrolled": false
   },
   "outputs": [],
   "source": [
    "keyname = 'id'\n",
    "keys = list(df[keyname].unique())\n",
    "\n",
    "f,axs = plt.subplots(len(keys),1,figsize=(10,40), sharex='col')\n",
    "\n",
    "for (asset_id,group),ax in zip(df.groupby(['id']), axs):\n",
    "    asset_name = get_asset_name(asset_id)\n",
    "    decimals = get_decimals(asset_id)\n",
    "\n",
    "    ax.plot(group['time_5min'], group['price'] * 10**(decimals-6), label=asset_id);\n",
    "    ax.set_title(asset_name);\n",
    "    ax.legend();\n",
    "    ax.grid();\n",
    "    \n",
    "plt.xticks(rotation=35);"
   ]
  }
 ],
 "metadata": {
  "kernelspec": {
   "display_name": "Python 3 (ipykernel)",
   "language": "python",
   "name": "python3"
  },
  "language_info": {
   "codemirror_mode": {
    "name": "ipython",
    "version": 3
   },
   "file_extension": ".py",
   "mimetype": "text/x-python",
   "name": "python",
   "nbconvert_exporter": "python",
   "pygments_lexer": "ipython3",
   "version": "3.10.0"
  }
 },
 "nbformat": 4,
 "nbformat_minor": 5
}
