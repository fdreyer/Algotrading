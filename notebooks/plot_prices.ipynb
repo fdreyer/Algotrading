{
 "cells": [
  {
   "cell_type": "code",
   "execution_count": null,
   "id": "effb8b58",
   "metadata": {},
   "outputs": [],
   "source": [
    "import datetime\n",
    "import json\n",
    "import itertools\n",
    "import pandas as pd\n",
    "import pyarrow as pa\n",
    "import pyarrow.parquet as pq\n",
    "import numpy as np\n",
    "import glob\n",
    "import os\n",
    "from matplotlib import pyplot as plt\n",
    "from pathlib import Path\n",
    "from IPython.core.display import display, HTML\n",
    "display(HTML(\"<style>.container { width:100% !important; }</style>\"))\n",
    "from algo.universe.assets import get_asset_data\n",
    "from algo.blockchain.utils import timestamp_to_5min\n",
    "from functools import lru_cache\n",
    "from definitions import ROOT_DIR"
   ]
  },
  {
   "cell_type": "code",
   "execution_count": null,
   "id": "2d3329fd",
   "metadata": {},
   "outputs": [],
   "source": [
    "%load_ext autoreload\n",
    "%autoreload 2"
   ]
  },
  {
   "cell_type": "code",
   "execution_count": null,
   "id": "94467e6e",
   "metadata": {},
   "outputs": [],
   "source": [
    "@lru_cache()\n",
    "def get_asset_name(asset_id):\n",
    "    return get_asset_data(asset_id)['params']['name']\n",
    "\n",
    "@lru_cache()\n",
    "def get_decimals(asset_id):\n",
    "    return get_asset_data(asset_id)['params']['decimals']\n",
    "\n",
    "\n",
    "def load_from_cache(pattern, filter_pair):\n",
    "\n",
    "    def gen_data():\n",
    "        for base_dir in glob.glob(pattern):\n",
    "            a0,a1 = tuple(int(x) for x in Path(base_dir).name.split('_'))\n",
    "            \n",
    "            if filter_pair(a0,a1):\n",
    "                subdf = pd.concat(pd.read_parquet(fname) for fname in glob.glob(f'{base_dir}/*.parquet')).sort_values(by='time')\n",
    "                subdf['asset1'] = a0\n",
    "                subdf['asset2'] = a1\n",
    "                yield subdf\n",
    "\n",
    "    df = pd.concat(gen_data())\n",
    "    df['time_5min'] = timestamp_to_5min(df['time'])\n",
    "    return df"
   ]
  },
  {
   "cell_type": "code",
   "execution_count": null,
   "id": "e519a366",
   "metadata": {},
   "outputs": [],
   "source": [
    "cache_name = '20220206'\n",
    "# Select only pairs with Algo\n",
    "pattern = f'{ROOT_DIR}/caches/prices/{cache_name}/0_*'\n",
    "\n",
    "def filter_pair(a1, a2):\n",
    "    exclude = [31566704, # USDC\n",
    "               312769, # USDt\n",
    "                567485181, # LoudDefi \n",
    "                  ]\n",
    "    if a1 in exclude or a2 in exclude:\n",
    "        return False\n",
    "    return True\n",
    "\n",
    "\n",
    "dfp_raw = load_from_cache(pattern, filter_pair)\n",
    "dfp = dfp_raw.groupby(['time_5min','asset1','asset2']).agg('mean').reset_index()\n",
    "dfp.head()"
   ]
  },
  {
   "cell_type": "code",
   "execution_count": null,
   "id": "3a7486ff",
   "metadata": {},
   "outputs": [],
   "source": [
    "cache_name = '20220206'\n",
    "# Select only pairs with Algo\n",
    "pattern = f'{ROOT_DIR}/caches/volumes/{cache_name}/0_*'\n",
    "\n",
    "def filter_pair(a1, a2):\n",
    "    stablecoins = [31566704, # USDC\n",
    "                   312769 # USDt\n",
    "                  ]\n",
    "    if a1 in stablecoins or a2 in stablecoins:\n",
    "        return False\n",
    "    return True\n",
    "\n",
    "\n",
    "dfv_raw = load_from_cache(pattern, filter_pair)\n",
    "dfv_raw['algo_volume'] = abs(dfv_raw['asset1_amount'])\n",
    "dfv = dfv_raw.groupby(['time_5min','asset1','asset2']).agg('sum').reset_index()\n",
    "dfv.head()"
   ]
  },
  {
   "cell_type": "code",
   "execution_count": null,
   "id": "85cba44b",
   "metadata": {},
   "outputs": [],
   "source": [
    "def price_norm(subdf, asset_id):\n",
    "    decimals = get_decimals(asset_id)\n",
    "    subdf['price_norm'] = subdf['price'] * 10**(decimals-6)\n",
    "    return subdf\n",
    "\n",
    "def cumulative_volume(subdf):\n",
    "    subdf['algo_volume_cumul'] = subdf['algo_volume'].cumsum() / (10**6)\n",
    "    return subdf\n",
    "\n",
    "def cumulative_net_volume(subdf):\n",
    "    subdf['net_algo_volume_cumul'] = subdf['asset1_amount'].cumsum() / (10**6)\n",
    "    return subdf\n",
    "\n",
    "keys = ['time_5min','asset1','asset2']\n",
    "df = dfp.merge(dfv, how='left', on=keys)\n",
    "\n",
    "df['price'] = df['asset2_reserves']/df['asset1_reserves']\n",
    "df = df.groupby('asset2').apply(lambda x: price_norm(x,x.name))\n",
    "df = df.groupby('asset2').apply(cumulative_volume)\n",
    "df = df.groupby('asset2').apply(cumulative_net_volume)\n",
    "df['reserves_algo'] = df['asset2_reserves'] / (10**6)\n",
    "df['net_algo_volume'] = df['asset1_amount'] / (10**6)\n",
    "\n",
    "df.head()"
   ]
  },
  {
   "cell_type": "code",
   "execution_count": null,
   "id": "2b3fde0c",
   "metadata": {
    "scrolled": false
   },
   "outputs": [],
   "source": [
    "keyname = 'asset2'\n",
    "\n",
    "keys = list(df[keyname].unique())\n",
    "\n",
    "cols = ('price_norm', 'reserves_algo', 'algo_volume_cumul')#, 'net_algo_volume_cum')\n",
    "\n",
    "nrows = len(cols)\n",
    "ncols = len(keys)\n",
    "f,axss = plt.subplots(nrows, ncols, figsize=(8*ncols,4*nrows), sharex='col')\n",
    "\n",
    "for j,(asset_id,group) in enumerate(df.groupby([keyname])):\n",
    "    asset_name = get_asset_name(asset_id)\n",
    "\n",
    "\n",
    "    for i,col in enumerate(cols):\n",
    "        ax = axss[i][j]\n",
    "        ax.plot(group['time_5min'], group[col], label=col);\n",
    "        ax.set_title(f'{asset_name}, {asset_id}');\n",
    "        ax.legend();\n",
    "        ax.grid();\n",
    "\n",
    "plt.xticks(rotation=35);\n",
    "plt.savefig('test.pdf')"
   ]
  }
 ],
 "metadata": {
  "kernelspec": {
   "display_name": "Python 3 (ipykernel)",
   "language": "python",
   "name": "python3"
  },
  "language_info": {
   "codemirror_mode": {
    "name": "ipython",
    "version": 3
   },
   "file_extension": ".py",
   "mimetype": "text/x-python",
   "name": "python",
   "nbconvert_exporter": "python",
   "pygments_lexer": "ipython3",
   "version": "3.10.0"
  }
 },
 "nbformat": 4,
 "nbformat_minor": 5
}
