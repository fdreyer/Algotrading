{
 "cells": [
  {
   "cell_type": "code",
   "execution_count": 35,
   "id": "9df0a8a1",
   "metadata": {},
   "outputs": [],
   "source": [
    "from tinyman.v1.client import TinymanMainnetClient"
   ]
  },
  {
   "cell_type": "code",
   "execution_count": null,
   "id": "1da25939",
   "metadata": {},
   "outputs": [],
   "source": [
    "import algosdk\n",
    "#private_key=algosdk.mnemonic.to_private_key('list of 25 words from wallet')"
   ]
  },
  {
   "cell_type": "code",
   "execution_count": 54,
   "id": "a7048f52",
   "metadata": {},
   "outputs": [],
   "source": [
    "account = {\n",
    "    'address': algorand_wallet_address,\n",
    "    'private_key':base64_private_key # Use algosdk.mnemonic.to_private_key(mnemonic) if necessary\n",
    "}"
   ]
  },
  {
   "cell_type": "code",
   "execution_count": 55,
   "id": "e1d03064",
   "metadata": {},
   "outputs": [],
   "source": [
    "client = TinymanMainnetClient(user_address=account['address'])"
   ]
  },
  {
   "cell_type": "code",
   "execution_count": 57,
   "id": "c541f151",
   "metadata": {},
   "outputs": [],
   "source": [
    "\n",
    "# Check if the account is opted into Tinyman and optin if necessary\n",
    "if(not client.is_opted_in()):\n",
    "    print('Account not opted into app, opting in now..')\n",
    "    transaction_group = client.prepare_app_optin_transactions()\n",
    "    transaction_group.sign_with_private_key(account['address'], account['private_key'])\n",
    "    result = client.submit(transaction_group, wait=True)"
   ]
  },
  {
   "cell_type": "code",
   "execution_count": 60,
   "id": "e1b97276",
   "metadata": {},
   "outputs": [],
   "source": [
    "USDC = client.fetch_asset(31566704)\n",
    "ALGO = client.fetch_asset(0)"
   ]
  },
  {
   "cell_type": "code",
   "execution_count": 61,
   "id": "ee170a67",
   "metadata": {},
   "outputs": [],
   "source": [
    "# Fetch the pool we will work with\n",
    "pool = client.fetch_pool(USDC, ALGO)"
   ]
  },
  {
   "cell_type": "code",
   "execution_count": 62,
   "id": "883c50f6",
   "metadata": {},
   "outputs": [
    {
     "name": "stdout",
     "output_type": "stream",
     "text": [
      "SwapQuote(swap_type='fixed-input', amount_in=ALGO('1'), amount_out=USDC('1.813101'), swap_fees=ALGO('0.003'), slippage=0.01)\n",
      "USDC per ALGO: 1.813101\n",
      "USDC per ALGO (worst case): 1.79497\n"
     ]
    }
   ],
   "source": [
    "# Get a quote for a swap of 1 ALGO to TINYUSDC with 1% slippage tolerance\n",
    "quote = pool.fetch_fixed_input_swap_quote(ALGO(1_000_000), slippage=0.01)\n",
    "print(quote)\n",
    "print(f'USDC per ALGO: {quote.price}')\n",
    "print(f'USDC per ALGO (worst case): {quote.price_with_slippage}')"
   ]
  },
  {
   "cell_type": "code",
   "execution_count": 82,
   "id": "b3395eca",
   "metadata": {},
   "outputs": [
    {
     "name": "stdout",
     "output_type": "stream",
     "text": [
      "1.77922832\n"
     ]
    }
   ],
   "source": [
    "print(pool.fetch_fixed_input_swap_quote(ALGO(50000000.0), slippage=0.03).price_with_slippage)"
   ]
  },
  {
   "cell_type": "code",
   "execution_count": 63,
   "id": "779591fe",
   "metadata": {},
   "outputs": [
    {
     "name": "stdout",
     "output_type": "stream",
     "text": [
      "Swapping ALGO('1') to USDC('1.79497')\n",
      "Waiting for confirmation\n",
      "Transaction EDTGOFRZR454TLF7IQHUX42BO6Y63UAYDYCMFFMJCEXPVVRE3W6Q confirmed in round 17286838.\n",
      "Excess: USDC('0.018131')\n",
      "Waiting for confirmation\n",
      "Transaction 3ISU4X7DA3ILF3Y6IXEV7PXFEIOSFFABFHTE3GXD5Z2GMZAXTPIQ confirmed in round 17286840.\n"
     ]
    }
   ],
   "source": [
    "# We only want to sell if ALGO is > 1.70 TINYUSDC\n",
    "if quote.price_with_slippage > 1.70:\n",
    "    print(f'Swapping {quote.amount_in} to {quote.amount_out_with_slippage}')\n",
    "    # Prepare a transaction group\n",
    "    transaction_group = pool.prepare_swap_transactions_from_quote(quote)\n",
    "    # Sign the group with our key\n",
    "    transaction_group.sign_with_private_key(account['address'], account['private_key'])\n",
    "    # Submit transactions to the network and wait for confirmation\n",
    "    result = client.submit(transaction_group, wait=True)\n",
    "\n",
    "    # Check if any excess remaining after the swap\n",
    "    excess = pool.fetch_excess_amounts()\n",
    "    if USDC in excess:\n",
    "        amount = excess[USDC]\n",
    "        print(f'Excess: {amount}')\n",
    "        # We might just let the excess accumulate rather than redeeming if its < 0.005 USDC\n",
    "        if amount > 0.005:\n",
    "            transaction_group = pool.prepare_redeem_transactions(amount)\n",
    "            transaction_group.sign_with_private_key(account['address'], account['private_key'])\n",
    "            result = client.submit(transaction_group, wait=True)"
   ]
  }
 ],
 "metadata": {
  "kernelspec": {
   "display_name": "Python 3 (ipykernel)",
   "language": "python",
   "name": "python3"
  },
  "language_info": {
   "codemirror_mode": {
    "name": "ipython",
    "version": 3
   },
   "file_extension": ".py",
   "mimetype": "text/x-python",
   "name": "python",
   "nbconvert_exporter": "python",
   "pygments_lexer": "ipython3",
   "version": "3.9.6"
  }
 },
 "nbformat": 4,
 "nbformat_minor": 5
}
